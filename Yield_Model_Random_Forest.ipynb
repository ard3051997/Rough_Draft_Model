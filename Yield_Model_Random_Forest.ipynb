{
  "nbformat": 4,
  "nbformat_minor": 0,
  "metadata": {
    "colab": {
      "name": "Yield Model - Random Forest.ipynb",
      "provenance": [],
      "collapsed_sections": []
    },
    "kernelspec": {
      "display_name": "Python 3",
      "name": "python3"
    }
  },
  "cells": [
    {
      "cell_type": "markdown",
      "metadata": {
        "id": "XKx8wVu9Z5rN"
      },
      "source": [
        "\n",
        "In the first code snippet - We insert a file named \"Train.csv\" this file contains all the data which was obtained from various research paper and is considered as raw data. \n",
        "In the following block you just have to click on the choose file button and you will redirected to your computer directory where you can upload that file from its respective location.\n",
        " \n",
        " \n",
        "Upload the file in the directory and then run the following code snippet."
      ]
    },
    {
      "cell_type": "code",
      "metadata": {
        "colab": {
          "background_save": true,
          "resources": {
            "http://localhost:8080/nbextensions/google.colab/files.js": {
              "data": "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",
              "headers": [
                [
                  "content-type",
                  "application/javascript"
                ]
              ],
              "ok": true,
              "status": 200,
              "status_text": ""
            }
          },
          "base_uri": "https://localhost:8080/",
          "height": 38
        },
        "id": "nJ4YllLPVQm5",
        "outputId": "3cd1c9e2-d032-47ce-c28f-e6d7e5c6c206"
      },
      "source": [
        "from google.colab import files\n",
        "uploaded = files.upload()"
      ],
      "execution_count": null,
      "outputs": [
        {
          "output_type": "display_data",
          "data": {
            "text/html": [
              "\n",
              "     <input type=\"file\" id=\"files-4d9d5289-e986-41db-912c-c1a4dde2d5ec\" name=\"files[]\" multiple disabled\n",
              "        style=\"border:none\" />\n",
              "     <output id=\"result-4d9d5289-e986-41db-912c-c1a4dde2d5ec\">\n",
              "      Upload widget is only available when the cell has been executed in the\n",
              "      current browser session. Please rerun this cell to enable.\n",
              "      </output>\n",
              "      <script src=\"/nbextensions/google.colab/files.js\"></script> "
            ],
            "text/plain": [
              "<IPython.core.display.HTML object>"
            ]
          },
          "metadata": {
            "tags": []
          }
        },
        {
          "output_type": "error",
          "ename": "TypeError",
          "evalue": "ignored",
          "traceback": [
            "\u001b[0;31m---------------------------------------------------------------------------\u001b[0m",
            "\u001b[0;31mTypeError\u001b[0m                                 Traceback (most recent call last)",
            "\u001b[0;32m<ipython-input-1-21dc3c638f66>\u001b[0m in \u001b[0;36m<module>\u001b[0;34m()\u001b[0m\n\u001b[1;32m      1\u001b[0m \u001b[0;32mfrom\u001b[0m \u001b[0mgoogle\u001b[0m\u001b[0;34m.\u001b[0m\u001b[0mcolab\u001b[0m \u001b[0;32mimport\u001b[0m \u001b[0mfiles\u001b[0m\u001b[0;34m\u001b[0m\u001b[0;34m\u001b[0m\u001b[0m\n\u001b[0;32m----> 2\u001b[0;31m \u001b[0muploaded\u001b[0m \u001b[0;34m=\u001b[0m \u001b[0mfiles\u001b[0m\u001b[0;34m.\u001b[0m\u001b[0mupload\u001b[0m\u001b[0;34m(\u001b[0m\u001b[0;34m)\u001b[0m\u001b[0;34m\u001b[0m\u001b[0;34m\u001b[0m\u001b[0m\n\u001b[0m",
            "\u001b[0;32m/usr/local/lib/python3.6/dist-packages/google/colab/files.py\u001b[0m in \u001b[0;36mupload\u001b[0;34m()\u001b[0m\n\u001b[1;32m     67\u001b[0m   \u001b[0mlocal_filenames\u001b[0m \u001b[0;34m=\u001b[0m \u001b[0mdict\u001b[0m\u001b[0;34m(\u001b[0m\u001b[0;34m)\u001b[0m\u001b[0;34m\u001b[0m\u001b[0;34m\u001b[0m\u001b[0m\n\u001b[1;32m     68\u001b[0m \u001b[0;34m\u001b[0m\u001b[0m\n\u001b[0;32m---> 69\u001b[0;31m   \u001b[0;32mwhile\u001b[0m \u001b[0mresult\u001b[0m\u001b[0;34m[\u001b[0m\u001b[0;34m'action'\u001b[0m\u001b[0;34m]\u001b[0m \u001b[0;34m!=\u001b[0m \u001b[0;34m'complete'\u001b[0m\u001b[0;34m:\u001b[0m\u001b[0;34m\u001b[0m\u001b[0;34m\u001b[0m\u001b[0m\n\u001b[0m\u001b[1;32m     70\u001b[0m     result = _output.eval_js(\n\u001b[1;32m     71\u001b[0m         'google.colab._files._uploadFilesContinue(\"{output_id}\")'.format(\n",
            "\u001b[0;31mTypeError\u001b[0m: 'NoneType' object is not subscriptable"
          ]
        }
      ]
    },
    {
      "cell_type": "markdown",
      "metadata": {
        "id": "uaSzuG8FG-1U"
      },
      "source": [
        "\n",
        "\n",
        "\n"
      ]
    },
    {
      "cell_type": "code",
      "metadata": {
        "id": "FKeqHsi7zDY4"
      },
      "source": [
        "import pandas as pd\n",
        "import numpy as np\n",
        "\n",
        "from sklearn.model_selection import cross_val_score\n",
        "from sklearn.linear_model import LinearRegression\n",
        "from sklearn.linear_model import LogisticRegression\n",
        "from sklearn.ensemble import RandomForestRegressor\n",
        "from sklearn.ensemble import RandomForestClassifier\n",
        "from sklearn.preprocessing import LabelEncoder\n",
        "\n",
        "from sklearn.metrics import accuracy_score\n",
        "from sklearn.metrics import r2_score\n",
        "\n",
        "import matplotlib.pyplot as plt\n",
        "\n",
        "import warnings\n",
        "warnings.filterwarnings(\"ignore\")\n",
        "import io"
      ],
      "execution_count": null,
      "outputs": []
    },
    {
      "cell_type": "markdown",
      "metadata": {
        "id": "qXcj65nCIzXo"
      },
      "source": [
        "The following snippet just assine the files uploaded in the first block to its variable so that it will be easier for further processing of these files. As well as gives header of the data as the output(o/p). "
      ]
    },
    {
      "cell_type": "code",
      "metadata": {
        "id": "K8eK4AHgzJUF",
        "colab": {
          "base_uri": "https://localhost:8080/"
        },
        "outputId": "b1539820-0921-4a4b-b597-c2d4eed05b7a"
      },
      "source": [
        "train = pd.read_csv(io.StringIO(uploaded['Train.csv'].decode('utf-8')))  \n",
        "test = pd.read_csv(io.StringIO(uploaded['Train.csv'].decode('utf-8')))\n",
        "\n",
        "train.head()"
      ],
      "execution_count": null,
      "outputs": [
        {
          "output_type": "error",
          "ename": "NameError",
          "evalue": "ignored",
          "traceback": [
            "\u001b[0;31m---------------------------------------------------------------------------\u001b[0m",
            "\u001b[0;31mNameError\u001b[0m                                 Traceback (most recent call last)",
            "\u001b[0;32m<ipython-input-1-517a41d12587>\u001b[0m in \u001b[0;36m<module>\u001b[0;34m()\u001b[0m\n\u001b[0;32m----> 1\u001b[0;31m \u001b[0mtrain\u001b[0m \u001b[0;34m=\u001b[0m \u001b[0mpd\u001b[0m\u001b[0;34m.\u001b[0m\u001b[0mread_csv\u001b[0m\u001b[0;34m(\u001b[0m\u001b[0mio\u001b[0m\u001b[0;34m.\u001b[0m\u001b[0mStringIO\u001b[0m\u001b[0;34m(\u001b[0m\u001b[0muploaded\u001b[0m\u001b[0;34m[\u001b[0m\u001b[0;34m'Train.csv'\u001b[0m\u001b[0;34m]\u001b[0m\u001b[0;34m.\u001b[0m\u001b[0mdecode\u001b[0m\u001b[0;34m(\u001b[0m\u001b[0;34m'utf-8'\u001b[0m\u001b[0;34m)\u001b[0m\u001b[0;34m)\u001b[0m\u001b[0;34m)\u001b[0m\u001b[0;34m\u001b[0m\u001b[0;34m\u001b[0m\u001b[0m\n\u001b[0m\u001b[1;32m      2\u001b[0m \u001b[0mtest\u001b[0m \u001b[0;34m=\u001b[0m \u001b[0mpd\u001b[0m\u001b[0;34m.\u001b[0m\u001b[0mread_csv\u001b[0m\u001b[0;34m(\u001b[0m\u001b[0mio\u001b[0m\u001b[0;34m.\u001b[0m\u001b[0mStringIO\u001b[0m\u001b[0;34m(\u001b[0m\u001b[0muploaded\u001b[0m\u001b[0;34m[\u001b[0m\u001b[0;34m'Train.csv'\u001b[0m\u001b[0;34m]\u001b[0m\u001b[0;34m.\u001b[0m\u001b[0mdecode\u001b[0m\u001b[0;34m(\u001b[0m\u001b[0;34m'utf-8'\u001b[0m\u001b[0;34m)\u001b[0m\u001b[0;34m)\u001b[0m\u001b[0;34m)\u001b[0m\u001b[0;34m\u001b[0m\u001b[0;34m\u001b[0m\u001b[0m\n\u001b[1;32m      3\u001b[0m \u001b[0;34m\u001b[0m\u001b[0m\n\u001b[1;32m      4\u001b[0m \u001b[0mtrain\u001b[0m\u001b[0;34m.\u001b[0m\u001b[0mhead\u001b[0m\u001b[0;34m(\u001b[0m\u001b[0;34m)\u001b[0m\u001b[0;34m\u001b[0m\u001b[0;34m\u001b[0m\u001b[0m\n",
            "\u001b[0;31mNameError\u001b[0m: name 'pd' is not defined"
          ]
        }
      ]
    },
    {
      "cell_type": "markdown",
      "metadata": {
        "id": "D9YxtenylZ7p"
      },
      "source": [
        "The following code is a mathematical regression model based on Random Forest regression for Yield of Rice Straw Pulping with different categorical variable for alkaline or acidic pulping. Here various variable are defined as a part of the orignal csv data file which was compiled in excel.\n",
        "And\n",
        "LabelEncoder() is used for labeling the categorical variable such as pulping method in to numerical one - basically assigning value to things like type of pulping components in numerical terms.\n",
        "\n",
        "NaOH - 1\n",
        "\n",
        "HCOOH - 2\n",
        "\n",
        "...\n",
        "\n",
        "H2SO4 - 0\n",
        "\n",
        "Similar to above mentioned example each categorical variable is given a number to check its effect on the overall model. Though classicaly categorical variable were ignored in making statistical model, but when incorporated categorical variables help incorporate more accuracy to the models.\n",
        "\n",
        "\n",
        "\n",
        "\n",
        "\n",
        "\n",
        "The output for our data is percentage yiled and percentage of different components namely Lignin, hemicellulose, and cellulose which is numerical in nature hence regression was used for the modelling of the data. Classification is used when the o/p variable is categorical in nature.\n",
        "\n",
        "The models chosen were Linear Regression and Random Forest Regression as their simplicity and universalness in well known. Both the models were compared for the given data and the best for each parameter was chosen for further processing.\n",
        "\n",
        "Also this snippet only consider output variable 'Yield' the other output variables are modelled in subsequent snippets."
      ]
    },
    {
      "cell_type": "code",
      "metadata": {
        "id": "9zx4gmTsH5Kp"
      },
      "source": [
        "\n",
        "\n",
        "\n",
        "\n",
        "number = LabelEncoder()\n",
        "\n",
        "train['Components']= number.fit_transform(train['Components'].astype('str')) \n",
        "test['Components']= number.fit_transform(test['Components'].astype('str'))\n",
        "train['Cat_1']= number.fit_transform(train['Cat_1'].astype('str')) \n",
        "test['Cat_1']= number.fit_transform(test['Cat_1'].astype('str'))\n",
        "train['Cat_2']= number.fit_transform(train['Cat_2'].astype('str')) \n",
        "test['Cat_2']= number.fit_transform(test['Cat_2'].astype('str'))\n",
        "\n",
        "\n",
        "#features = ['Components','Cat_1','Cat_2','Concentration','Catalyst_Conc_1','Catalyst_Conc_2','Temperature', 'Time(min)']\n",
        "\n",
        "features = ['Components','Cat_1','Cat_2','Concentration','Temperature', 'Time(min)']\n",
        "\n",
        "\n",
        "x_train = train[list (features)]\n",
        "y_train = train['Yield']\n",
        "x_train.dropna(axis = 'rows')\n",
        "y_train.dropna(axis = 'rows')\n",
        "x_train = x_train.values\n",
        "y_train = y_train.values\n",
        "x_test = test[list (features)].values\n",
        "\n",
        "#test.head()\n",
        "\n",
        "rf = RandomForestRegressor(max_depth=4, random_state=0)\n",
        "rf1=rf.fit(x_train, y_train)\n",
        "sur = rf1.predict(x_test)\n",
        "\n",
        "lr = LinearRegression()\n",
        "lr1 = lr.fit(x_train, y_train)\n",
        "sur1 = lr1.predict(x_test)\n",
        "\n"
      ],
      "execution_count": null,
      "outputs": []
    },
    {
      "cell_type": "code",
      "metadata": {
        "id": "8mVhhnaQlX7b"
      },
      "source": [
        "coeff_df = pd.DataFrame(lr.coef_,['Components','Cat_1','Cat_2','Concentration','Temperature', 'Time(min)'] , columns=['Coefficient'])  \n",
        "print(coeff_df)\n",
        "print(lr.intercept_)\n"
      ],
      "execution_count": null,
      "outputs": []
    },
    {
      "cell_type": "code",
      "metadata": {
        "id": "-uvqPhWsw0ZR"
      },
      "source": [
        "result = []\n",
        "for i in sur:\n",
        "  result.append(str(i*100) + \" %\")\n",
        "\n",
        "\n",
        "print(result)  \n"
      ],
      "execution_count": null,
      "outputs": []
    },
    {
      "cell_type": "markdown",
      "metadata": {
        "id": "54DPH090deY3"
      },
      "source": [
        "The following function gives the idea of actual value and predicted value on the basis of the R^2 score."
      ]
    },
    {
      "cell_type": "code",
      "metadata": {
        "id": "LhYlujzAvXqC"
      },
      "source": [
        "def correlation(estimator, X, y):\n",
        "  \n",
        "  y_pred = estimator.fit(X,y).predict(X)\n",
        "  return r2_score(y, y_pred)\n",
        "\n",
        "  "
      ],
      "execution_count": null,
      "outputs": []
    },
    {
      "cell_type": "markdown",
      "metadata": {
        "id": "gtO45iOndp69"
      },
      "source": [
        "The following code snippet compare both Random Forest and Linear Regression method for better R^2 or score in sklearn library/module. It also cross evaluate the regression methods. As well as plot a graph for both the score to make it easier to decide visually.\n"
      ]
    },
    {
      "cell_type": "code",
      "metadata": {
        "id": "D6zYtUsMvZvO"
      },
      "source": [
        "# Determine the cross-validated correlation for linear and random forest models.\n",
        "forest_regression_scores = cross_val_score(rf,x_train, y_train,cv = 10, scoring = correlation ) \n",
        "linear_regression_scores = cross_val_score(lr,x_train, y_train,cv = 10, scoring = correlation )\n",
        "#print(linear_regression_scores)\n",
        "#print(forest_regression_scores)\n",
        "# Plot Results\n",
        "plt.axes().set_aspect('equal', 'box')\n",
        "plt.scatter(linear_regression_scores, forest_regression_scores)\n",
        "plt.plot((0, 1), (0, 1), 'k-')\n",
        "\n",
        "plt.xlim(0, 1)\n",
        "plt.ylim(0, 1)\n",
        "plt.xlabel(\"Linear Regression Score\")\n",
        "plt.ylabel(\"Forest Regression Score\")\n",
        "\n",
        "# Show the plot.\n",
        "plt.show()\n",
        "\n",
        "rf.fit(x_train, y_train)    \n",
        "sorted(list(zip(features, rf.feature_importances_)), key=lambda tup: tup[1])"
      ],
      "execution_count": null,
      "outputs": []
    },
    {
      "cell_type": "markdown",
      "metadata": {
        "id": "81jfBovB2BpP"
      },
      "source": [
        "\n",
        "The Following Code is a Test code for RFR \n",
        "function of scikit learn module\n",
        "\n",
        "\n",
        "\n",
        "\n",
        "\n",
        "\n",
        "\n",
        "\n",
        "\n",
        "\n",
        "\n",
        "\n",
        "\n",
        "\n",
        "\n",
        "\n",
        "\n",
        "\n",
        "\n",
        "\n",
        "\n"
      ]
    },
    {
      "cell_type": "markdown",
      "metadata": {
        "id": "XxxyFl7fatt0"
      },
      "source": [
        "\n",
        "\n"
      ]
    },
    {
      "cell_type": "code",
      "metadata": {
        "id": "kzFcyewGhhFK"
      },
      "source": [
        ""
      ],
      "execution_count": null,
      "outputs": []
    },
    {
      "cell_type": "markdown",
      "metadata": {
        "id": "mhOoqwSLYmTd"
      },
      "source": [
        "The following script is for calculation of Cellulose from different Papers refered to as Alpha Cellulose is taken as Cellulose in the model."
      ]
    },
    {
      "cell_type": "code",
      "metadata": {
        "id": "ro5hYDo7fAke"
      },
      "source": [
        "features1 = ['Components','Cat_1','Cat_2','Concentration','Temperature', 'Time(min)','Cellulose']\n",
        "train1 = train[list(features1)]\n",
        "train1 = train1.replace(0, np.nan)\n",
        "train1 = train1.dropna(axis = 'rows')\n",
        "\n",
        "x_train1 = train1[list (features)]\n",
        "y_train1 = train1['Cellulose']\n",
        "#x_train1= x_train1.dropna(axis = 'rows')\n",
        "#y_train1= y_train1.dropna(axis = 'rows')\n",
        "#x_train1 = x_train1.values\n",
        "#y_train1 = y_train1.values\n",
        "\n",
        "\n",
        "#x_test1 = test[list (features1)].values\n",
        "x_test1 = x_train1\n",
        "\n",
        "\n",
        "rf_C = RandomForestRegressor(max_depth=4, random_state=0)\n",
        "rf2=rf_C.fit(x_train1, y_train1)\n",
        "sur2 = rf2.predict(x_test1)\n",
        "\n",
        "lr_C = LinearRegression()\n",
        "lr2 = lr_C.fit(x_train1, y_train1)\n",
        "sur3 = lr2.predict(x_test1)\n",
        "  "
      ],
      "execution_count": null,
      "outputs": []
    },
    {
      "cell_type": "code",
      "metadata": {
        "id": "T5WsA2i9owv_"
      },
      "source": [
        "coeff_df1 = pd.DataFrame(lr_C.coef_,['Components','Cat_1','Cat_2','Concentration','Temperature', 'Time(min)'] , columns=['Coefficient'])  \n",
        "print(coeff_df1)\n",
        "print(lr_C.intercept_)"
      ],
      "execution_count": null,
      "outputs": []
    },
    {
      "cell_type": "code",
      "metadata": {
        "id": "g_HsGxSJDs3Q"
      },
      "source": [
        "# Determine the cross-validated correlation for linear and random forest models.\n",
        "forest_regression_scores = cross_val_score(rf2,x_train1, y_train1,cv = 20, scoring = correlation ) \n",
        "linear_regression_scores = cross_val_score(lr2,x_train1, y_train1,cv = 20, scoring = correlation )\n",
        "#print(linear_regression_scores)\n",
        "#print(forest_regression_scores)\n",
        "# Plot Results\n",
        "plt.axes().set_aspect('equal', 'box')\n",
        "plt.scatter(linear_regression_scores, forest_regression_scores)\n",
        "plt.plot((0, 1), (0, 1), 'k-')\n",
        "\n",
        "plt.xlim(0, 1)\n",
        "plt.ylim(0, 1)\n",
        "plt.xlabel(\"Linear Regression Score\")\n",
        "plt.ylabel(\"Forest Regression Score\")\n",
        "\n",
        "# Show the plot.\n",
        "plt.show()\n",
        "\n",
        "rf2.fit(x_train1, y_train1)    \n",
        "sorted(list(zip(features, rf.feature_importances_)), key=lambda tup: tup[1])"
      ],
      "execution_count": null,
      "outputs": []
    },
    {
      "cell_type": "markdown",
      "metadata": {
        "id": "pJD50bN8F99M"
      },
      "source": [
        "The following script is for calculation of Hemicellulose from different Papers refered to as combination of Xylose and Arabinose. "
      ]
    },
    {
      "cell_type": "code",
      "metadata": {
        "id": "-8RhXXeYGX9S"
      },
      "source": [
        "features2 = ['Components','Cat_1','Cat_2','Concentration','Temperature', 'Time(min)','Hemicellulose']\n",
        "train2 = train[list(features2)]\n",
        "train2 = train2.dropna(axis = 'rows')\n",
        "\n",
        "x_train2 = train2[list (features)]\n",
        "y_train2 = train2['Hemicellulose']\n",
        "\n",
        "#x_test1 = test[list (features2)].values - x_test2 should be defined using test parameter for sake of convenirnce her the data used is the data used for fiting\n",
        "x_test2 = x_train2\n",
        "\n",
        "\n",
        "rf_H = RandomForestRegressor(max_depth=4, random_state=0)\n",
        "rf3=rf_H.fit(x_train2, y_train2)\n",
        "sur4 = rf3.predict(x_test2)\n",
        "\n",
        "lr_H = LinearRegression()\n",
        "lr3 = lr_H.fit(x_train2, y_train2)\n",
        "sur5 = lr3.predict(x_test2)"
      ],
      "execution_count": null,
      "outputs": []
    },
    {
      "cell_type": "code",
      "metadata": {
        "id": "qcHD3g6qS-ya"
      },
      "source": [
        ""
      ],
      "execution_count": null,
      "outputs": []
    },
    {
      "cell_type": "code",
      "metadata": {
        "id": "R16L7A-epE_F"
      },
      "source": [
        "coeff_df2 = pd.DataFrame(lr_H.coef_,['Components','Cat_1','Cat_2','Concentration','Temperature', 'Time(min)'] , columns=['Coefficient'])  \n",
        "print(coeff_df2)\n",
        "print(lr_H.intercept_)"
      ],
      "execution_count": null,
      "outputs": []
    },
    {
      "cell_type": "markdown",
      "metadata": {
        "id": "1l9pXHHgHkX1"
      },
      "source": [
        "The following script is for calculation of Lignin of Rice Straw pulping from \n",
        "\n",
        "---\n",
        "\n",
        "different Papers refered to as combination of Klason Lignin, Acid Soluble Lignin and Pseudo Lignin in case of  Acid Hydrolysis. "
      ]
    },
    {
      "cell_type": "code",
      "metadata": {
        "id": "ndOEaQvxICfv"
      },
      "source": [
        "features3 = ['Components','Cat_1','Cat_2','Concentration','Temperature', 'Time(min)','Total_Lignin']\n",
        "train3 = train[list(features3)]\n",
        "train3 = train3.dropna(axis = 'rows')\n",
        "\n",
        "x_train3 = train3[list (features)]\n",
        "y_train3 = train3['Total_Lignin']\n",
        "\n",
        "#x_test1 = test[list (features1)].values - x_test2 should be defined using test parameter for sake of convenirnce her the data used is the data used for fiting\n",
        "x_test3 = x_train3\n",
        "\n",
        "\n",
        "rf_L = RandomForestRegressor(max_depth=4, random_state=0)\n",
        "rf4=rf_L.fit(x_train3, y_train3)\n",
        "sur6 = rf4.predict(x_test3)\n",
        "\n",
        "lr_L = LinearRegression()\n",
        "lr4 = lr_L.fit(x_train2 , y_train2)\n",
        "sur7 = lr4.predict(x_test2)"
      ],
      "execution_count": null,
      "outputs": []
    },
    {
      "cell_type": "code",
      "metadata": {
        "id": "Ny4IHTEPpZ97"
      },
      "source": [
        "coeff_df3 = pd.DataFrame(lr_L.coef_,['Components','Cat_1','Cat_2','Concentration','Temperature', 'Time(min)'] , columns=['Coefficient'])  \n",
        "print(coeff_df3)\n",
        "print(lr_L.intercept_)"
      ],
      "execution_count": null,
      "outputs": []
    },
    {
      "cell_type": "markdown",
      "metadata": {
        "id": "EZnK1Nk0Iw83"
      },
      "source": [
        "The following snippets is for plotting the model output with the original output."
      ]
    },
    {
      "cell_type": "code",
      "metadata": {
        "id": "4uwiXEUeI8Ik"
      },
      "source": [
        "x1 = [x for x in range(0,len(sur))]\n",
        "x2 = [x for x in range(0,len(sur2))]\n",
        "x3 = [x for x in range(0,len(sur4))]\n",
        "x4 = [x for x in range(0,len(sur6))]\n",
        "fig = plt.figure()\n",
        "#plt1 = fig.add_subplot(331) \n",
        "#plt2 = fig.add_subplot(333) \n",
        "#plt3 = fig.add_subplot(337) \n",
        "#plt4 = fig.add_subplot(339)\n",
        "\n",
        "plt.plot(x1, y_train,'k-', x1, sur, 'ro-', markersize = 1, linewidth = 0.8)#.ylabel(\"% Yield\")\n",
        "plt.title(\"Yield Accuracy\")\n",
        "plt.savefig(\"Graphs_Regression_Yield.png\")\n",
        "\n",
        "fig2 = plt.figure()\n",
        "plt.plot(x2, y_train1,'k-', x2, sur2, 'bs-', markersize = 1, linewidth = 0.8)#.ylabel(\"% Cellulose\")\n",
        "plt.title(\"Cellulose Accuracy\")\n",
        "plt.savefig(\"Graphs_Regression_Cellulose.png\")\n",
        "\n",
        "fig3 = plt.figure()\n",
        "plt.plot(x3, y_train2,'k-', x3, sur4, 'g^-', markersize = 1, linewidth = 0.8)#.ylabel(\"% Hemicellulose\")\n",
        "plt.title(\"Hemicellulose\")\n",
        "plt.savefig(\"Graphs_Regression_Hemicellulose.png\")\n",
        "\n",
        "fig4 = plt.figure()\n",
        "plt.plot(x3, y_train2,'k-', x3, sur4, 'yd-', markersize = 1, linewidth = 0.8)#.ylabel(\"% Lignin\")\n",
        "plt.title(\"Lignin\"), \n",
        "plt.savefig(\"Graphs_Regression_Lignin.png\")\n",
        "\n",
        "\n",
        "\n"
      ],
      "execution_count": null,
      "outputs": []
    },
    {
      "cell_type": "code",
      "metadata": {
        "id": "CYUOfgsKEKeM"
      },
      "source": [
        "x1 = [x for x in range(0,len(sur1))]\n",
        "x2 = [x for x in range(0,len(sur3))]\n",
        "x3 = [x for x in range(0,len(sur5))]\n",
        "x4 = [x for x in range(0,len(sur7))]\n",
        "fig = plt.figure()\n",
        "#plt1 = fig.add_subplot(331) \n",
        "#plt2 = fig.add_subplot(333) \n",
        "#plt3 = fig.add_subplot(337) \n",
        "#plt4 = fig.add_subplot(339)\n",
        "\n",
        "plt.plot(x1, y_train,'k-', x1, sur1, 'ro-', markersize = 1, linewidth = 0.8)#.ylabel(\"% Yield\")\n",
        "plt.title(\"Yield Accuracy\")\n",
        "plt.savefig(\"Graphs_Regression_Yield_Linear.png\")\n",
        "\n",
        "fig2 = plt.figure()\n",
        "plt.plot(x2, y_train1,'k-', x2, sur3, 'bs-', markersize = 1, linewidth = 0.8)#.ylabel(\"% Cellulose\")\n",
        "plt.title(\"Cellulose Accuracy\")\n",
        "plt.savefig(\"Graphs_Regression_Cellulose_Linear.png\")\n",
        "\n",
        "fig3 = plt.figure()\n",
        "plt.plot(x3, y_train2,'k-', x3, sur5, 'g^-', markersize = 1, linewidth = 0.8)#.ylabel(\"% Hemicellulose\")\n",
        "plt.title(\"Hemicellulose\")\n",
        "plt.savefig(\"Graphs_Regression_Hemicellulose_Linear.png\")\n",
        "\n",
        "fig4 = plt.figure()\n",
        "plt.plot(x3, y_train2,'k-', x3, sur7, 'md-', markersize = 1, linewidth = 0.8)#.ylabel(\"% Lignin\")\n",
        "plt.title(\"Lignin\"), \n",
        "plt.savefig(\"Graphs_Regression_Lignin_Linear.png\")\n",
        "\n",
        "\n",
        "\n"
      ],
      "execution_count": null,
      "outputs": []
    },
    {
      "cell_type": "code",
      "metadata": {
        "id": "dt6ZtRURwLfb"
      },
      "source": [
        "files.download(\"Graphs_Regression_Yield.png\")\n",
        "files.download(\"Graphs_Regression_Cellulose_Linear.png\")\n",
        "files.download(\"Graphs_Regression_Yield_Linear.png\")\n",
        "files.download(\"Graphs_Regression_Hemicellulose_Linear.png\")\n",
        "files.download(\"Graphs_Regression_Lignin_Linear.png\")             \n",
        "files.download(\"Graphs_Regression_Cellulose.png\")\n",
        "files.download(\"Graphs_Regression_Hemicellulose.png\")\n",
        "files.download(\"Graphs_Regression_Lignin.png\")        "
      ],
      "execution_count": null,
      "outputs": []
    },
    {
      "cell_type": "code",
      "metadata": {
        "colab": {
          "base_uri": "https://localhost:8080/",
          "height": 130
        },
        "id": "qNofRp37LOB9",
        "outputId": "ac5cc573-0112-4566-dd7d-5bbaa4108dca"
      },
      "source": [
        "import streamlit as st\n",
        "\n",
        "\n",
        "def user_input_features():\n",
        "    Components = st.sidebar.selectbox('Select Pulping Component', ('Butanol', 'NaOH', 'Ca(OH)2', 'H2SO4', 'HCOOH', 'Hot Water')) # number to be updated st.sidebar.selectbox('How would you like to be contacted?',('Email', 'Home phone', 'Mobile phone'))\n",
        "    Cat_1 = st.sidebar.selectbox('Select Cat_1', ('Acetic Acid','Anthraquinone','Aromatic Acid','Benzene','Boric acid','glycerol','Nitrobenzene','Oxalic Acid','Phenol','Toluene', '#N/A')# number to be updated\n",
        "    #Cat_2 = st.sidebar.selectbox('Select Cat_2', ('Boric Acid','#N/A'))# number to be updated\n",
        "    #Concentration = st.sidebar.slider('Concentration', 0, 1000, 0.2)# number to be updated\n",
        "    #Temperature = st.sidebar.slider('Temperature', 0.1, 2.5, 0.2)# number to be updated\n",
        "    #Time = st.sidebar.slider('Time', 0.1, 2.5, 0.2)# number to be updated\n",
        "\n",
        "    \n",
        "    #data = {'Components': Components,'Cat_1': Cat_1, 'Cat_2': Cat_2, 'Concentration': Concentration, 'Temperature': Temperature, 'Time': Time}\n",
        "    #features = pd.DataFrame(data1, index=[0])\n",
        "    add_selectbox = st.sidebar.selectbox('How would you like to be contacted?',('Email', 'Home phone', 'Mobile phone'))\n"
      ],
      "execution_count": null,
      "outputs": [
        {
          "output_type": "error",
          "ename": "SyntaxError",
          "evalue": "ignored",
          "traceback": [
            "\u001b[0;36m  File \u001b[0;32m\"<ipython-input-11-0835d7c86f85>\"\u001b[0;36m, line \u001b[0;32m15\u001b[0m\n\u001b[0;31m    add_selectbox = st.sidebar.selectbox('How would you like to be contacted?',('Email', 'Home phone', 'Mobile phone'))\u001b[0m\n\u001b[0m                ^\u001b[0m\n\u001b[0;31mSyntaxError\u001b[0m\u001b[0;31m:\u001b[0m invalid syntax\n"
          ]
        }
      ]
    }
  ]
}